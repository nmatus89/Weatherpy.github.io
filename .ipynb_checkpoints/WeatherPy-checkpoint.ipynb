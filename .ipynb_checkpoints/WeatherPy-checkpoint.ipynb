{
 "cells": [
  {
   "cell_type": "markdown",
   "metadata": {},
   "source": [
    "# WeatherPy\n",
    "----\n",
    "\n",
    "#### Note\n",
    "* Instructions have been included for each segment. You do not have to follow them exactly, but they are included to help you think through the steps."
   ]
  },
  {
   "cell_type": "code",
   "execution_count": 2,
   "metadata": {
    "scrolled": true
   },
   "outputs": [],
   "source": [
    "# Dependencies and Setup\n",
    "import matplotlib.pyplot as plt\n",
    "import pandas as pd\n",
    "import numpy as np\n",
    "import requests\n",
    "import time\n",
    "import json\n",
    "from pprint import pprint\n",
    "\n",
    "# Import API key\n",
    "from config import api_key\n",
    "\n",
    "# Incorporated citipy to determine city based on latitude and longitude\n",
    "from citipy import citipy\n",
    "\n",
    "# Output File (CSV)\n",
    "#output_data_file = \"output_data/cities.csv\"\n",
    "\n",
    "# Range of latitudes and longitudes\n",
    "lat_range = (-90, 90)\n",
    "lng_range = (-180, 180)"
   ]
  },
  {
   "cell_type": "markdown",
   "metadata": {},
   "source": [
    "## Generate Cities List"
   ]
  },
  {
   "cell_type": "code",
   "execution_count": 3,
   "metadata": {},
   "outputs": [
    {
     "data": {
      "text/plain": [
       "591"
      ]
     },
     "execution_count": 3,
     "metadata": {},
     "output_type": "execute_result"
    }
   ],
   "source": [
    "# List for holding lat_lngs and cities\n",
    "lat_lngs = []\n",
    "cities = []\n",
    "\n",
    "# Create a set of random lat and lng combinations\n",
    "lats = np.random.uniform(low=-90.000, high=90.000, size=1500)\n",
    "lngs = np.random.uniform(low=-180.000, high=180.000, size=1500)\n",
    "lat_lngs = zip(lats, lngs)\n",
    "\n",
    "# Identify nearest city for each lat, lng combination\n",
    "for lat_lng in lat_lngs:\n",
    "    city = citipy.nearest_city(lat_lng[0], lat_lng[1]).city_name\n",
    "    \n",
    "    # If the city is unique, then add it to a our cities list\n",
    "    if city not in cities:\n",
    "        cities.append(city)\n",
    "\n",
    "# Print the city count to confirm sufficient count\n",
    "len(cities)"
   ]
  },
  {
   "cell_type": "markdown",
   "metadata": {},
   "source": [
    "### Perform API Calls\n",
    "* Perform a weather check on each city using a series of successive API calls.\n",
    "* Include a print log of each city as it'sbeing processed (with the city number and city name).\n"
   ]
  },
  {
   "cell_type": "code",
   "execution_count": null,
   "metadata": {},
   "outputs": [
    {
     "name": "stdout",
     "output_type": "stream",
     "text": [
      "Processing record terra santa\n",
      "Processing record thompson\n",
      "Processing record raudeberg\n",
      "Processing record kapaa\n",
      "Processing record salalah\n",
      "Processing record atuona\n",
      "Processing record new norfolk\n",
      "Processing record fort nelson\n",
      "Processing record kruisfontein\n",
      "City not found. Skipping...\n",
      "Processing record praia\n",
      "Processing record yalutorovsk\n",
      "Processing record rio branco do sul\n",
      "Processing record yellowknife\n",
      "Processing record bluff\n",
      "Processing record the pas\n",
      "Processing record mount gambier\n",
      "Processing record tateyama\n",
      "Processing record alacranes\n",
      "Processing record ushuaia\n",
      "Processing record barrow\n",
      "Processing record rawson\n",
      "Processing record mataura\n",
      "Processing record kristinehamn\n",
      "Processing record college\n",
      "City not found. Skipping...\n",
      "Processing record cam ranh\n",
      "Processing record rikitea\n",
      "Processing record qaanaaq\n",
      "Processing record jamestown\n",
      "Processing record kalmunai\n",
      "City not found. Skipping...\n",
      "Processing record mayo\n",
      "Processing record fare\n",
      "Processing record puerto ayora\n",
      "Processing record geraldton\n",
      "Processing record poum\n",
      "Processing record lavrentiya\n",
      "Processing record albany\n",
      "Processing record weligama\n",
      "Processing record carnarvon\n",
      "Processing record matagami\n",
      "Processing record port alfred\n",
      "Processing record cape town\n",
      "Processing record buraydah\n",
      "Processing record georgetown\n",
      "Processing record hauterive\n",
      "Processing record mar del plata\n",
      "Processing record butaritari\n",
      "Processing record hithadhoo\n",
      "City not found. Skipping...\n",
      "Processing record lorengau\n",
      "Processing record bredasdorp\n",
      "Processing record quatre cocos\n",
      "Processing record tasiilaq\n",
      "Processing record la llanada\n",
      "Processing record mkushi\n",
      "Processing record mnogovershinnyy\n",
      "Processing record zhigansk\n",
      "Processing record the valley\n",
      "Processing record maceio\n",
      "City not found. Skipping...\n",
      "Processing record chokurdakh\n",
      "Processing record cayenne\n",
      "Processing record reconquista\n",
      "Processing record port elizabeth\n",
      "Processing record szczecinek\n",
      "Processing record mangan\n",
      "Processing record jutai\n",
      "Processing record nikolskoye\n",
      "Processing record hay river\n",
      "Processing record iracoubo\n",
      "Processing record yulara\n",
      "Processing record rudnogorsk\n",
      "Processing record vaini\n",
      "Processing record bethel\n",
      "Processing record hobart\n",
      "Processing record hermanus\n",
      "Processing record busselton\n",
      "Processing record huarmey\n",
      "Processing record vila franca do campo\n",
      "Processing record ahuimanu\n",
      "Processing record cherskiy\n",
      "Processing record port hedland\n",
      "Processing record sidi ali\n",
      "Processing record punta arenas\n",
      "Processing record pochutla\n"
     ]
    }
   ],
   "source": [
    "#Creat url for API call\n",
    "url = \"https://api.openweathermap.org/data/2.5/weather?\"\n",
    "\n",
    "#Create lists to append API data\n",
    "city_name = []\n",
    "cloudiness = []\n",
    "country = []\n",
    "date = []\n",
    "humidity = []\n",
    "lat = []\n",
    "lon = []\n",
    "temp_max = []\n",
    "speed = []\n",
    "\n",
    "#Loop to get the city data\n",
    "for city in cities:\n",
    "    query_url = url + \"q=\" + city + \"&appid=\" + api_key \n",
    "    response = requests.get(query_url).json()\n",
    "    #if response['cod'] == 200:\n",
    "    try:\n",
    "        city_name.append(response['name'])\n",
    "        cloudiness.append(response['clouds']['all'])\n",
    "        country.append(response['sys']['country'])\n",
    "        date.append(response['dt'])\n",
    "        humidity.append(response['main']['humidity'])\n",
    "        lat.append(response['coord']['lat'])\n",
    "        lon.append(response['coord']['lon'])\n",
    "        temp_max.append(response['main']['temp_max'])\n",
    "        speed.append(response['wind']['speed'])\n",
    "        print(f\"Processing record {city}\")\n",
    "    #else:\n",
    "    except:\n",
    "        print(\"City not found. Skipping...\")"
   ]
  },
  {
   "cell_type": "markdown",
   "metadata": {},
   "source": [
    "### Convert Raw Data to DataFrame\n",
    "* Export the city data into a .csv.\n",
    "* Display the DataFrame"
   ]
  },
  {
   "cell_type": "code",
   "execution_count": null,
   "metadata": {},
   "outputs": [],
   "source": []
  },
  {
   "cell_type": "code",
   "execution_count": null,
   "metadata": {},
   "outputs": [],
   "source": [
    "weather_dic = {\n",
    "    'City': city_name,\n",
    "    'Cloudiness': cloudiness,\n",
    "    'Country': country,\n",
    "    'Date': date,\n",
    "    'Humidity': humidity,\n",
    "    'Lat': lat,\n",
    "    'Lng': lon,\n",
    "    'Max Temp': temp_max,\n",
    "    'Wind Speed': speed\n",
    "}\n",
    "\n",
    "weather_df = pd.DataFrame(weather_dic)"
   ]
  },
  {
   "cell_type": "code",
   "execution_count": null,
   "metadata": {},
   "outputs": [],
   "source": [
    "weather_df.count()"
   ]
  },
  {
   "cell_type": "code",
   "execution_count": null,
   "metadata": {},
   "outputs": [],
   "source": [
    "weather_df.head()"
   ]
  },
  {
   "cell_type": "code",
   "execution_count": null,
   "metadata": {},
   "outputs": [],
   "source": [
    "# Save dataframe to CSV\n",
    "weather_df.to_csv('output_data/cities.csv')"
   ]
  },
  {
   "cell_type": "markdown",
   "metadata": {},
   "source": [
    "### Plotting the Data\n",
    "* Use proper labeling of the plots using plot titles (including date of analysis) and axes labels.\n",
    "* Save the plotted figures as .pngs."
   ]
  },
  {
   "cell_type": "markdown",
   "metadata": {},
   "source": [
    "#### Latitude vs. Temperature Plot"
   ]
  },
  {
   "cell_type": "code",
   "execution_count": null,
   "metadata": {},
   "outputs": [],
   "source": [
    "#Generate scatter plot\n",
    "plt.scatter(weather_df['Lat'], weather_df['Max Temp'], marker=\"o\", facecolors=\"blue\", edgecolors=\"blue\", alpha = 0.80)\n",
    "# Incorporate the other graph properties\n",
    "plt.title(\"City Latitute vs Max Temperature\")\n",
    "plt.xlabel(\"Latitude\")\n",
    "plt.ylabel(\"Max Temperature\")\n",
    "\n",
    "# Save Figure\n",
    "plt.savefig(\"output_data/lat_vs_temp.png\")\n",
    "\n",
    "plt.show()"
   ]
  },
  {
   "cell_type": "markdown",
   "metadata": {},
   "source": [
    "Temperature seems to get higher if the city latitute is near 20, not in the equator line, as well the temperature drops if the latitute has more distance from the equator."
   ]
  },
  {
   "cell_type": "markdown",
   "metadata": {},
   "source": [
    "#### Latitude vs. Humidity Plot"
   ]
  },
  {
   "cell_type": "code",
   "execution_count": null,
   "metadata": {},
   "outputs": [],
   "source": [
    "#Generate scatter plot\n",
    "plt.scatter(weather_df['Lat'], weather_df['Humidity'], marker=\"o\", facecolors=\"blue\", edgecolors=\"blue\", alpha = 0.80)\n",
    "# Incorporate the other graph properties\n",
    "plt.title(\"City Latitute vs Humidity\")\n",
    "plt.xlabel(\"Latitute\")\n",
    "plt.ylabel(\"Humidity\")\n",
    "\n",
    "# Save Figure\n",
    "plt.savefig(\"output_data/lat_vs_hum.png\")\n",
    "\n",
    "plt.show()"
   ]
  },
  {
   "cell_type": "markdown",
   "metadata": {},
   "source": [
    "Humidity has no direct relation with the city latitude, theres humidity everywhere."
   ]
  },
  {
   "cell_type": "markdown",
   "metadata": {},
   "source": [
    "#### Latitude vs. Cloudiness Plot"
   ]
  },
  {
   "cell_type": "code",
   "execution_count": null,
   "metadata": {},
   "outputs": [],
   "source": [
    "#Generate scatter plot\n",
    "plt.scatter(weather_df['Lat'], weather_df['Cloudiness'], marker=\"o\", facecolors=\"blue\", edgecolors=\"blue\", alpha = 0.80)\n",
    "# Incorporate the other graph properties\n",
    "plt.title(\"City Latitute vs Cloudiness\")\n",
    "plt.xlabel(\"Latitute\")\n",
    "plt.ylabel(\"Cloudiness\")\n",
    "\n",
    "# Save Figure\n",
    "plt.savefig(\"output_data/lat_vs_cloud.png\")\n",
    "\n",
    "plt.show()"
   ]
  },
  {
   "cell_type": "markdown",
   "metadata": {},
   "source": [
    "As well, cloudiness has no direct relation with the city latitude."
   ]
  },
  {
   "cell_type": "markdown",
   "metadata": {},
   "source": [
    "#### Latitude vs. Wind Speed Plot"
   ]
  },
  {
   "cell_type": "code",
   "execution_count": null,
   "metadata": {},
   "outputs": [],
   "source": [
    "#Generate scatter plot\n",
    "plt.scatter(weather_df['Lat'], weather_df['Wind Speed'], marker=\"o\", facecolors=\"blue\", edgecolors=\"blue\", alpha = 0.80)\n",
    "# Incorporate the other graph properties\n",
    "plt.title(\"City Latitute vs Wind Speed\")\n",
    "plt.xlabel(\"Latitute\")\n",
    "plt.ylabel(\"Wind Speed\")\n",
    "\n",
    "# Save Figure\n",
    "plt.savefig(\"output_data/lat_vs_wind.png\")\n",
    "\n",
    "plt.show()"
   ]
  },
  {
   "cell_type": "code",
   "execution_count": null,
   "metadata": {},
   "outputs": [],
   "source": [
    "The wind speed seems to be not affected by the latitute, but theres  cloudiness has no direct relation with the city latitude."
   ]
  }
 ],
 "metadata": {
  "anaconda-cloud": {},
  "kernel_info": {
   "name": "python3"
  },
  "kernelspec": {
   "display_name": "Python 3",
   "language": "python",
   "name": "python3"
  },
  "language_info": {
   "codemirror_mode": {
    "name": "ipython",
    "version": 3
   },
   "file_extension": ".py",
   "mimetype": "text/x-python",
   "name": "python",
   "nbconvert_exporter": "python",
   "pygments_lexer": "ipython3",
   "version": "3.7.3"
  },
  "nteract": {
   "version": "0.12.3"
  },
  "varInspector": {
   "cols": {
    "lenName": 16,
    "lenType": 16,
    "lenVar": 40
   },
   "kernels_config": {
    "python": {
     "delete_cmd_postfix": "",
     "delete_cmd_prefix": "del ",
     "library": "var_list.py",
     "varRefreshCmd": "print(var_dic_list())"
    },
    "r": {
     "delete_cmd_postfix": ") ",
     "delete_cmd_prefix": "rm(",
     "library": "var_list.r",
     "varRefreshCmd": "cat(var_dic_list()) "
    }
   },
   "types_to_exclude": [
    "module",
    "function",
    "builtin_function_or_method",
    "instance",
    "_Feature"
   ],
   "window_display": false
  }
 },
 "nbformat": 4,
 "nbformat_minor": 2
}
